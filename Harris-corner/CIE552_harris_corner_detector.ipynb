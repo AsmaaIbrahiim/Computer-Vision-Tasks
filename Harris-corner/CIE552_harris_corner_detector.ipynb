{
 "cells": [
  {
   "cell_type": "code",
   "execution_count": 1,
   "metadata": {},
   "outputs": [],
   "source": [
    "import cv2\n",
    "import numpy as np\n",
    "import matplotlib.pyplot as plt\n",
    "from typing import List\n",
    "from skimage.feature import peak_local_max"
   ]
  },
  {
   "cell_type": "code",
   "execution_count": 2,
   "metadata": {},
   "outputs": [],
   "source": [
    "def plot_figure(image_list: List[np.ndarray], title_list: List[str], height, width):\n",
    "    assert len(image_list) == len(title_list)\n",
    "    for i in range(len(image_list)):\n",
    "        plt.subplot(height, width, i + 1), plt.imshow(image_list[i], 'gray')\n",
    "        plt.title(title_list[i])\n",
    "        plt.xticks([]), plt.yticks([])\n",
    "    plt.show()"
   ]
  },
  {
   "cell_type": "code",
   "execution_count": 3,
   "metadata": {},
   "outputs": [],
   "source": [
    "import skimage\n",
    "def harris_corner_detector(img_path: str, alpha: int, block_size: int = 3, threshold_max_fraction: int=0.1):\n",
    "    # asserting alpha is in the valid range\n",
    "    assert (alpha <= 0.06 and alpha >= 0.04)\n",
    "    # reading the image, converting it to gray scale in float pixels\n",
    "    img = cv2.imread(img_path)\n",
    "    #img= im.astype(float)\n",
    "    if len(img.shape) > 2:\n",
    "        img = cv2.cvtColor(img, cv2.COLOR_BGR2GRAY)\n",
    "    img = skimage.img_as_float32(img)\n",
    "    ## Applying gaussian blur to smooth the image for better performance\n",
    "    img = cv2.GaussianBlur(img, (5, 5), 1)\n",
    "    # Creating sobel filter to compute the gradient\n",
    "    sobel_x = np.array([[1, 2, 1], [0, 0, 0], [-1, -2, -1]])\n",
    "    sobel_y = np.array([[-1, 0, 1], [-2, 0, 2], [-1, 0, 1]])\n",
    "    # Computing Gradient\n",
    "    Ix_blur = cv2.filter2D(img, -1, sobel_x)\n",
    "    Iy_blur = cv2.filter2D(img, -1, sobel_y)\n",
    "    # Compting Ix^2, Iy^2 and Ix*Iy\n",
    "    Ix2 = Ix_blur*Ix_blur\n",
    "    Iy2 = Iy_blur*Iy_blur\n",
    "    IxIy = Ix_blur*Iy_blur\n",
    "    # In order to give them gaussian weights convolution with Gaussian filter is applied\\\n",
    "    # the filter size is equivalent to block size\n",
    "    Ix2 = cv2.GaussianBlur(Ix2, (block_size, block_size), 1)\n",
    "    Iy2 = cv2.GaussianBlur(Iy2, (block_size, block_size), 1)\n",
    "    IxIy = cv2.GaussianBlur(IxIy, (block_size, block_size), 1)\n",
    "    # Computing Corners with det(M) - alpha*(trace(M)**2)\n",
    "    corner = np.zeros(img.shape)\n",
    "    corner = Ix2*Iy2 - IxIy*IxIy - alpha*(Ix2+Iy2)**2\n",
    "    threshold = np.max(corner)*threshold_max_fraction        \n",
    "    ret, corner_image = cv2.threshold(corner, threshold, 1.0, 0)\n",
    "    \n",
    "    return corner_image\n",
    "    \n",
    "    "
   ]
  },
  {
   "cell_type": "code",
   "execution_count": 4,
   "metadata": {
    "scrolled": false
   },
   "outputs": [],
   "source": [
    "corner = harris_corner_detector('assets/corners.jpg', 0.04)"
   ]
  },
  {
   "cell_type": "code",
   "execution_count": 7,
   "metadata": {},
   "outputs": [
    {
     "name": "stdout",
     "output_type": "stream",
     "text": [
      "(17, 2)\n"
     ]
    },
    {
     "data": {
      "text/plain": [
       "[<matplotlib.lines.Line2D at 0x7f126365bc70>]"
      ]
     },
     "execution_count": 7,
     "metadata": {},
     "output_type": "execute_result"
    },
    {
     "data": {
      "image/png": "[encoded data removed]",
      "text/plain": [
       "<Figure size 432x288 with 1 Axes>"
      ]
     },
     "metadata": {
      "needs_background": "light"
     },
     "output_type": "display_data"
    }
   ],
   "source": [
    "img = cv2.imread('assets/corners.jpg')\n",
    "if len(img.shape) > 2:\n",
    "    img = cv2.cvtColor(img, cv2.COLOR_BGR2GRAY)\n",
    "plt.imshow(img, cmap='gray')\n",
    "corner_co = peak_local_max(corner, min_distance=20)\n",
    "print(corner_co.shape)\n",
    "plt.plot(corner_co[:, 1], corner_co[:, 0], 'r.')"
   ]
  }
 ],
 "metadata": {
  "kernelspec": {
   "display_name": "Python 3",
   "language": "python",
   "name": "python3"
  },
  "language_info": {
   "codemirror_mode": {
    "name": "ipython",
    "version": 3
   },
   "file_extension": ".py",
   "mimetype": "text/x-python",
   "name": "python",
   "nbconvert_exporter": "python",
   "pygments_lexer": "ipython3",
   "version": "3.8.3"
  }
 },
 "nbformat": 4,
 "nbformat_minor": 5
}
